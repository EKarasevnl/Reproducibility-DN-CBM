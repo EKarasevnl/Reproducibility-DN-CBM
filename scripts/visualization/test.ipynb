{
 "cells": [
  {
   "cell_type": "code",
   "execution_count": 1,
   "metadata": {},
   "outputs": [],
   "source": [
    "file = 'fig0000_node_ids[2160, 6665, 6599, 2031].pdf'"
   ]
  },
  {
   "cell_type": "code",
   "execution_count": 2,
   "metadata": {},
   "outputs": [
    {
     "data": {
      "text/plain": [
       "[2160, 6665, 6599, 2031]"
      ]
     },
     "execution_count": 2,
     "metadata": {},
     "output_type": "execute_result"
    }
   ],
   "source": [
    "clean = file.split(\"_\")[2].split(\"[\")[1].split(\",\")\n",
    "clean = [c.replace(\"]\", \"\").replace(\" \", \"\").replace(\".pdf\", \"\") for c in clean]\n",
    "idxs = [int(c) for c in clean]\n",
    "idxs"
   ]
  },
  {
   "cell_type": "code",
   "execution_count": 3,
   "metadata": {},
   "outputs": [
    {
     "name": "stdout",
     "output_type": "stream",
     "text": [
      "Requirement already satisfied: ipywidgets in /gpfs/home2/pnair/.conda/envs/fact/lib/python3.10/site-packages (8.1.5)\n",
      "Requirement already satisfied: comm>=0.1.3 in /gpfs/home2/pnair/.conda/envs/fact/lib/python3.10/site-packages (from ipywidgets) (0.2.1)\n",
      "Requirement already satisfied: ipython>=6.1.0 in /gpfs/home2/pnair/.conda/envs/fact/lib/python3.10/site-packages (from ipywidgets) (8.20.0)\n",
      "Requirement already satisfied: traitlets>=4.3.1 in /gpfs/home2/pnair/.conda/envs/fact/lib/python3.10/site-packages (from ipywidgets) (5.14.1)\n",
      "Requirement already satisfied: widgetsnbextension~=4.0.12 in /gpfs/home2/pnair/.conda/envs/fact/lib/python3.10/site-packages (from ipywidgets) (4.0.13)\n",
      "Requirement already satisfied: jupyterlab-widgets~=3.0.12 in /gpfs/home2/pnair/.conda/envs/fact/lib/python3.10/site-packages (from ipywidgets) (3.0.13)\n",
      "Requirement already satisfied: decorator in /gpfs/home2/pnair/.conda/envs/fact/lib/python3.10/site-packages (from ipython>=6.1.0->ipywidgets) (5.1.1)\n",
      "Requirement already satisfied: jedi>=0.16 in /gpfs/home2/pnair/.conda/envs/fact/lib/python3.10/site-packages (from ipython>=6.1.0->ipywidgets) (0.19.1)\n",
      "Requirement already satisfied: matplotlib-inline in /gpfs/home2/pnair/.conda/envs/fact/lib/python3.10/site-packages (from ipython>=6.1.0->ipywidgets) (0.1.6)\n",
      "Requirement already satisfied: prompt-toolkit<3.1.0,>=3.0.41 in /gpfs/home2/pnair/.conda/envs/fact/lib/python3.10/site-packages (from ipython>=6.1.0->ipywidgets) (3.0.43)\n",
      "Requirement already satisfied: pygments>=2.4.0 in /gpfs/home2/pnair/.conda/envs/fact/lib/python3.10/site-packages (from ipython>=6.1.0->ipywidgets) (2.17.2)\n",
      "Requirement already satisfied: stack-data in /gpfs/home2/pnair/.conda/envs/fact/lib/python3.10/site-packages (from ipython>=6.1.0->ipywidgets) (0.6.3)\n",
      "Requirement already satisfied: exceptiongroup in /gpfs/home2/pnair/.conda/envs/fact/lib/python3.10/site-packages (from ipython>=6.1.0->ipywidgets) (1.2.0)\n",
      "Requirement already satisfied: pexpect>4.3 in /gpfs/home2/pnair/.conda/envs/fact/lib/python3.10/site-packages (from ipython>=6.1.0->ipywidgets) (4.9.0)\n",
      "Requirement already satisfied: parso<0.9.0,>=0.8.3 in /gpfs/home2/pnair/.conda/envs/fact/lib/python3.10/site-packages (from jedi>=0.16->ipython>=6.1.0->ipywidgets) (0.8.3)\n",
      "Requirement already satisfied: ptyprocess>=0.5 in /gpfs/home2/pnair/.conda/envs/fact/lib/python3.10/site-packages (from pexpect>4.3->ipython>=6.1.0->ipywidgets) (0.7.0)\n",
      "Requirement already satisfied: wcwidth in /gpfs/home2/pnair/.conda/envs/fact/lib/python3.10/site-packages (from prompt-toolkit<3.1.0,>=3.0.41->ipython>=6.1.0->ipywidgets) (0.2.13)\n",
      "Requirement already satisfied: executing>=1.2.0 in /gpfs/home2/pnair/.conda/envs/fact/lib/python3.10/site-packages (from stack-data->ipython>=6.1.0->ipywidgets) (2.0.1)\n",
      "Requirement already satisfied: asttokens>=2.1.0 in /gpfs/home2/pnair/.conda/envs/fact/lib/python3.10/site-packages (from stack-data->ipython>=6.1.0->ipywidgets) (2.4.1)\n",
      "Requirement already satisfied: pure-eval in /gpfs/home2/pnair/.conda/envs/fact/lib/python3.10/site-packages (from stack-data->ipython>=6.1.0->ipywidgets) (0.2.2)\n",
      "Requirement already satisfied: six>=1.12.0 in /gpfs/home2/pnair/.conda/envs/fact/lib/python3.10/site-packages (from asttokens>=2.1.0->stack-data->ipython>=6.1.0->ipywidgets) (1.16.0)\n"
     ]
    }
   ],
   "source": [
    "!pip install ipywidgets --upgrade"
   ]
  },
  {
   "cell_type": "code",
   "execution_count": 18,
   "metadata": {},
   "outputs": [
    {
     "name": "stdout",
     "output_type": "stream",
     "text": [
      "Random concept names: ['saratoga', 'breastfeeding', 'thermal', 'raid', 'maori', 'aerial', 'spiral', 'settled', 'training', 'horses', 'bread', 'paige', 'sti', 'ascii', 'moroccan', 'train', 'mushroom', 'nautical', 'lama', 'barcelona', 'johns', 'versace', 'shakira', 'lengthy']\n",
      "Random concept indices: [5312, 4730, 7629, 7691, 2096, 7609, 439, 583, 306, 3497, 706, 1307, 560, 6068, 3191, 5330, 5256, 1830, 3748, 3214, 2862, 3165, 288, 5423]\n"
     ]
    }
   ],
   "source": [
    "# This file samples concepts randomly, then looks up the word index in the vocabulary and loads the corresponding images.\n",
    "import os\n",
    "import os.path as osp\n",
    "from tqdm import tqdm\n",
    "import random\n",
    "#from survey import show_imgs_per_word\n",
    "\n",
    "# Sample 24 random concepts and store their indices from /home/pnair/fact-1/Assigned Names/clip_RN50_concept_name.csv\n",
    "file_path = \"/home/pnair/fact-1/Assigned Names/clip_RN50_concept_name.csv\"\n",
    "with open(file_path, \"r\") as f:\n",
    "    lines = f.readlines()\n",
    "    # concept names\n",
    "    random_concepts = random.sample(lines, 24)\n",
    "    random_concept_indices = [int(c.split(\",\")[0]) for c in random_concepts]\n",
    "    concept_names = [c.split(\",\")[1].replace('\\n', '').lower() for c in random_concepts]\n",
    "    print(f\"Random concept names: {concept_names}\")\n",
    "    print(f\"Random concept indices: {random_concept_indices}\")\n",
    "\n",
    "# # take any file in this folder: /home/pnair/fact-1/analysis/task_agnosticity/clip_RN50/vis which has the concept indices in the filename\n",
    "# # where the filename is of the form: \"fig####_node_ids[collection of concept indices separated by comma].pdf\"\n",
    "# dncbm_dir = \"/home/pnair/fact-1/analysis/task_agnosticity/clip_RN50/vis\"\n",
    "# for concept_idx, concept_name in tqdm(zip(random_concept_indices, random_concepts), desc=\"Processing concepts\"):\n",
    "#     for file in os.listdir(dncbm_dir):\n",
    "#         if file.endswith(\".pdf\"):\n",
    "#             clean = file.split(\"_\")[2].split(\"[\")[1].split(\",\")\n",
    "#             clean = [c.replace(\"]\", \"\").replace(\" \", \"\").replace(\".pdf\", \"\") for c in clean]\n",
    "#             concept_indices = [int(c) for c in clean]\n",
    "#             if concept_idx in concept_indices:\n",
    "#                 print(f\"Found file: {file}\")\n",
    "#                 # Store the file path\n",
    "#                 file_path = osp.join(dncbm_dir, file)\n",
    "#                 # Create a new folder with the concept in /home/pnair/fact-1/analysis/survey_images\n",
    "#                 new_folder_path = osp.join(\"/home/pnair/fact-1/analysis/survey_images\", random_concepts[random_concept_indices.index(concept_idx)])\n",
    "\n",
    "#                 # Find the vocab index of the concept name in /home/pnair/fact-1/vocab/clipdissect_20k.txt\n",
    "#                 vocab_path = \"/home/pnair/fact-1/vocab/clipdissect_20k.txt\"\n",
    "#                 with open(vocab_path, \"r\") as f:\n",
    "#                     vocab_lines = f.readlines()\n",
    "#                     vocab_index = vocab_lines.index(concept_name)\n",
    "                \n",
    "#                 # Pass the vocab_index to survey.py\n",
    "#                 show_imgs_per_word(word_idx=vocab_index, top_k=4, output_dir=new_folder_path)\n"
   ]
  },
  {
   "cell_type": "code",
   "execution_count": 17,
   "metadata": {},
   "outputs": [
    {
     "data": {
      "text/plain": [
       "([8155,\n",
       "  845,\n",
       "  3749,\n",
       "  1286,\n",
       "  1885,\n",
       "  1619,\n",
       "  6955,\n",
       "  4696,\n",
       "  556,\n",
       "  1436,\n",
       "  3926,\n",
       "  5320,\n",
       "  6979,\n",
       "  2849,\n",
       "  323,\n",
       "  5142,\n",
       "  1789,\n",
       "  1355,\n",
       "  1502,\n",
       "  3907,\n",
       "  6937,\n",
       "  7768,\n",
       "  1908,\n",
       "  186],\n",
       " ['otter',\n",
       "  'hiking',\n",
       "  'siena',\n",
       "  'artillery',\n",
       "  'flags',\n",
       "  'fountains',\n",
       "  'uml',\n",
       "  'drosophila',\n",
       "  'firefox',\n",
       "  'mileage',\n",
       "  'kurdish',\n",
       "  'cork',\n",
       "  'turkmenistan',\n",
       "  'teaching',\n",
       "  'graduating',\n",
       "  'venom',\n",
       "  'ramps',\n",
       "  'raid',\n",
       "  'month',\n",
       "  'palm',\n",
       "  'mgmt',\n",
       "  'mudvayne',\n",
       "  'organ',\n",
       "  'vhf'])"
      ]
     },
     "execution_count": 17,
     "metadata": {},
     "output_type": "execute_result"
    }
   ],
   "source": [
    "concepts = ['8155,otter\\n', '845,hiking\\n', '3749,siena\\n', '1286,artillery\\n', '1885,flags\\n', '1619,fountains\\n', '6955,uml\\n', '4696,drosophila\\n', '556,firefox\\n', '1436,mileage\\n', '3926,kurdish\\n', '5320,cork\\n', '6979,turkmenistan\\n', '2849,teaching\\n', '323,graduating\\n', '5142,venom\\n', '1789,ramps\\n', '1355,raid\\n', '1502,month\\n', '3907,palm\\n', '6937,mgmt\\n', '7768,mudvayne\\n', '1908,organ\\n', '186,vhf\\n']\n",
    "concept_idxs = [int(c.split(\",\")[0]) for c in concepts]\n",
    "concept_names = [c.split(\",\")[1].replace('\\n', '').lower() for c in concepts]\n",
    "concept_idxs, concept_names"
   ]
  }
 ],
 "metadata": {
  "kernelspec": {
   "display_name": "Python 3",
   "language": "python",
   "name": "python3"
  },
  "language_info": {
   "codemirror_mode": {
    "name": "ipython",
    "version": 3
   },
   "file_extension": ".py",
   "mimetype": "text/x-python",
   "name": "python",
   "nbconvert_exporter": "python",
   "pygments_lexer": "ipython3",
   "version": "3.10.16"
  }
 },
 "nbformat": 4,
 "nbformat_minor": 2
}
